{
 "cells": [
  {
   "cell_type": "code",
   "execution_count": 1,
   "metadata": {},
   "outputs": [],
   "source": [
    "import gzip\n",
    "import pandas as pd\n",
    "#import pandas_profiling\n",
    "import os\n",
    "import sys"
   ]
  },
  {
   "cell_type": "code",
   "execution_count": 2,
   "metadata": {},
   "outputs": [
    {
     "data": {
      "text/plain": [
       "'/Users/anirudhpanthula/Desktop/data_challenge-master'"
      ]
     },
     "execution_count": 2,
     "metadata": {},
     "output_type": "execute_result"
    }
   ],
   "source": [
    "os.getcwd()"
   ]
  },
  {
   "cell_type": "code",
   "execution_count": 3,
   "metadata": {},
   "outputs": [],
   "source": [
    "path = '/Users/anirudhpanthula/desktop/data_challenge-master/data'\n",
    "sys.path.insert(0,path)\n",
    "csv_files = [ i for i in os.listdir('data')][1:]\n",
    "csv_files.sort()"
   ]
  },
  {
   "cell_type": "code",
   "execution_count": 4,
   "metadata": {},
   "outputs": [
    {
     "data": {
      "text/plain": [
       "['2016Q1.csv.gz',\n",
       " '2016Q2.csv.gz',\n",
       " '2016Q3.csv.gz',\n",
       " '2016Q4.csv.gz',\n",
       " '2017Q1.csv.gz',\n",
       " '2017Q2.csv.gz',\n",
       " '2017Q3.csv.gz',\n",
       " '2017Q4.csv.gz']"
      ]
     },
     "execution_count": 4,
     "metadata": {},
     "output_type": "execute_result"
    }
   ],
   "source": [
    "csv_files"
   ]
  },
  {
   "cell_type": "code",
   "execution_count": 5,
   "metadata": {},
   "outputs": [
    {
     "name": "stderr",
     "output_type": "stream",
     "text": [
      "/Users/anirudhpanthula/anaconda/lib/python3.6/site-packages/IPython/core/interactiveshell.py:3049: DtypeWarning: Columns (20) have mixed types. Specify dtype option on import or set low_memory=False.\n",
      "  interactivity=interactivity, compiler=compiler, result=result)\n",
      "/Users/anirudhpanthula/anaconda/lib/python3.6/site-packages/IPython/core/interactiveshell.py:3049: DtypeWarning: Columns (20,60) have mixed types. Specify dtype option on import or set low_memory=False.\n",
      "  interactivity=interactivity, compiler=compiler, result=result)\n",
      "/Users/anirudhpanthula/anaconda/lib/python3.6/site-packages/IPython/core/interactiveshell.py:3049: DtypeWarning: Columns (119) have mixed types. Specify dtype option on import or set low_memory=False.\n",
      "  interactivity=interactivity, compiler=compiler, result=result)\n",
      "/Users/anirudhpanthula/anaconda/lib/python3.6/site-packages/IPython/core/interactiveshell.py:3049: DtypeWarning: Columns (130,131,132,135,136,137,140) have mixed types. Specify dtype option on import or set low_memory=False.\n",
      "  interactivity=interactivity, compiler=compiler, result=result)\n"
     ]
    }
   ],
   "source": [
    "#Full Data \n",
    "full_data = pd.DataFrame()\n",
    "for csv_file in csv_files:\n",
    "    data = pd.read_csv('data/'+csv_file,index_col =0)\n",
    "    data['quarter'] = csv_file[:6]\n",
    "    full_data = pd.concat([full_data,data],axis=0)    "
   ]
  },
  {
   "cell_type": "code",
   "execution_count": 6,
   "metadata": {},
   "outputs": [],
   "source": [
    "full_data_sampled = pd.DataFrame()\n",
    "for csv_file in csv_files:\n",
    "    data = pd.read_csv('data/'+csv_file,index_col =0)\n",
    "    data['quarter'] = csv_file[:6]\n",
    "    data_to_sample = dict(round(data['loan_status'].value_counts().div(data.shape[0])*(0.33*data.shape[0])))\n",
    "    sample_idx = list()\n",
    "    for i in data_to_sample:\n",
    "        idx = data.loc[data['loan_status']==i,'id'].sample(n=data_to_sample[i].astype(int)).tolist()\n",
    "        sample_idx.extend(idx)\n",
    "    data_sampled = data.loc[data['id'].isin(sample_idx),:]\n",
    "    full_data_sampled = pd.concat([full_data_sampled,data_sampled],axis=0)    "
   ]
  },
  {
   "cell_type": "code",
   "execution_count": 20,
   "metadata": {},
   "outputs": [
    {
     "data": {
      "text/plain": [
       "(877986, 152)"
      ]
     },
     "execution_count": 20,
     "metadata": {},
     "output_type": "execute_result"
    }
   ],
   "source": [
    "full_data.shape "
   ]
  },
  {
   "cell_type": "code",
   "execution_count": 19,
   "metadata": {},
   "outputs": [
    {
     "data": {
      "text/plain": [
       "(289738, 152)"
      ]
     },
     "execution_count": 19,
     "metadata": {},
     "output_type": "execute_result"
    }
   ],
   "source": [
    "full_data_sampled.shape "
   ]
  },
  {
   "cell_type": "code",
   "execution_count": 7,
   "metadata": {},
   "outputs": [
    {
     "data": {
      "text/plain": [
       "0.3300029841022522"
      ]
     },
     "execution_count": 7,
     "metadata": {},
     "output_type": "execute_result"
    }
   ],
   "source": [
    "full_data_sampled.shape[0]/full_data.shape[0]"
   ]
  },
  {
   "cell_type": "code",
   "execution_count": 8,
   "metadata": {},
   "outputs": [
    {
     "data": {
      "text/plain": [
       "2016Q1    0.329995\n",
       "2016Q2    0.330012\n",
       "2016Q3    0.330004\n",
       "2016Q4    0.329998\n",
       "2017Q1    0.329999\n",
       "2017Q2    0.330011\n",
       "2017Q3    0.330005\n",
       "2017Q4    0.330001\n",
       "Name: quarter, dtype: float64"
      ]
     },
     "execution_count": 8,
     "metadata": {},
     "output_type": "execute_result"
    }
   ],
   "source": [
    "full_data_sampled.quarter.value_counts().sort_index().div(full_data.quarter.value_counts().sort_index(),axis=0)\n"
   ]
  },
  {
   "cell_type": "code",
   "execution_count": 9,
   "metadata": {},
   "outputs": [
    {
     "data": {
      "text/plain": [
       "quarter  loan_status       \n",
       "2016Q1   Charged Off           20258\n",
       "         Current               52660\n",
       "         Default                  68\n",
       "         Fully Paid            57828\n",
       "         In Grace Period         863\n",
       "         Late (16-30 days)       522\n",
       "         Late (31-120 days)     1688\n",
       "2016Q2   Charged Off           13852\n",
       "         Current               42841\n",
       "         Default                  66\n",
       "         Fully Paid            38441\n",
       "         In Grace Period         899\n",
       "         Late (16-30 days)       345\n",
       "         Late (31-120 days)     1410\n",
       "2016Q3   Charged Off           13125\n",
       "         Current               45454\n",
       "         Default                  81\n",
       "         Fully Paid            37507\n",
       "         In Grace Period         760\n",
       "         Late (16-30 days)       497\n",
       "         Late (31-120 days)     1696\n",
       "2016Q4   Charged Off           10562\n",
       "         Current               53924\n",
       "         Default                  93\n",
       "         Fully Paid            35528\n",
       "         In Grace Period         948\n",
       "         Late (16-30 days)       543\n",
       "         Late (31-120 days)     1948\n",
       "2017Q1   Charged Off            7697\n",
       "         Current               57267\n",
       "         Default                  78\n",
       "         Fully Paid            28528\n",
       "         In Grace Period         827\n",
       "         Late (16-30 days)       494\n",
       "         Late (31-120 days)     1888\n",
       "2017Q2   Charged Off            6729\n",
       "         Current               68711\n",
       "         Default                 136\n",
       "         Fully Paid            25806\n",
       "         In Grace Period        1113\n",
       "         Late (16-30 days)       606\n",
       "         Late (31-120 days)     2350\n",
       "2017Q3   Charged Off            5527\n",
       "         Current               88386\n",
       "         Default                 127\n",
       "         Fully Paid            23521\n",
       "         In Grace Period        1387\n",
       "         Late (16-30 days)       820\n",
       "         Late (31-120 days)     2933\n",
       "2017Q4   Charged Off            3054\n",
       "         Current               94116\n",
       "         Default                 117\n",
       "         Fully Paid            17082\n",
       "         In Grace Period        1255\n",
       "         Late (16-30 days)       678\n",
       "         Late (31-120 days)     2346\n",
       "Name: id, dtype: int64"
      ]
     },
     "execution_count": 9,
     "metadata": {},
     "output_type": "execute_result"
    }
   ],
   "source": [
    "full_data.groupby(['quarter','loan_status']).count()['id']"
   ]
  },
  {
   "cell_type": "code",
   "execution_count": 10,
   "metadata": {},
   "outputs": [
    {
     "data": {
      "text/plain": [
       "quarter  loan_status       \n",
       "2016Q1   Charged Off            6685\n",
       "         Current               17378\n",
       "         Default                  22\n",
       "         Fully Paid            19083\n",
       "         In Grace Period         285\n",
       "         Late (16-30 days)       172\n",
       "         Late (31-120 days)      557\n",
       "2016Q2   Charged Off            4571\n",
       "         Current               14138\n",
       "         Default                  22\n",
       "         Fully Paid            12686\n",
       "         In Grace Period         297\n",
       "         Late (16-30 days)       114\n",
       "         Late (31-120 days)      465\n",
       "2016Q3   Charged Off            4331\n",
       "         Current               15000\n",
       "         Default                  27\n",
       "         Fully Paid            12377\n",
       "         In Grace Period         251\n",
       "         Late (16-30 days)       164\n",
       "         Late (31-120 days)      560\n",
       "2016Q4   Charged Off            3485\n",
       "         Current               17795\n",
       "         Default                  31\n",
       "         Fully Paid            11724\n",
       "         In Grace Period         313\n",
       "         Late (16-30 days)       179\n",
       "         Late (31-120 days)      643\n",
       "2017Q1   Charged Off            2540\n",
       "         Current               18898\n",
       "         Default                  26\n",
       "         Fully Paid             9414\n",
       "         In Grace Period         273\n",
       "         Late (16-30 days)       163\n",
       "         Late (31-120 days)      623\n",
       "2017Q2   Charged Off            2221\n",
       "         Current               22675\n",
       "         Default                  45\n",
       "         Fully Paid             8516\n",
       "         In Grace Period         367\n",
       "         Late (16-30 days)       200\n",
       "         Late (31-120 days)      776\n",
       "2017Q3   Charged Off            1824\n",
       "         Current               29167\n",
       "         Default                  42\n",
       "         Fully Paid             7762\n",
       "         In Grace Period         458\n",
       "         Late (16-30 days)       271\n",
       "         Late (31-120 days)      968\n",
       "2017Q4   Charged Off            1008\n",
       "         Current               31058\n",
       "         Default                  39\n",
       "         Fully Paid             5637\n",
       "         In Grace Period         414\n",
       "         Late (16-30 days)       224\n",
       "         Late (31-120 days)      774\n",
       "Name: id, dtype: int64"
      ]
     },
     "execution_count": 10,
     "metadata": {},
     "output_type": "execute_result"
    }
   ],
   "source": [
    "full_data_sampled.groupby(['quarter','loan_status']).count()['id']"
   ]
  },
  {
   "cell_type": "code",
   "execution_count": 11,
   "metadata": {},
   "outputs": [
    {
     "data": {
      "text/plain": [
       "2017Q4    118648\n",
       "Name: quarter, dtype: int64"
      ]
     },
     "execution_count": 11,
     "metadata": {},
     "output_type": "execute_result"
    }
   ],
   "source": [
    "data.quarter.value_counts()"
   ]
  },
  {
   "cell_type": "code",
   "execution_count": 12,
   "metadata": {},
   "outputs": [
    {
     "data": {
      "text/plain": [
       "2017Q4    39154\n",
       "Name: quarter, dtype: int64"
      ]
     },
     "execution_count": 12,
     "metadata": {},
     "output_type": "execute_result"
    }
   ],
   "source": [
    "data_sampled.quarter.value_counts()"
   ]
  },
  {
   "cell_type": "code",
   "execution_count": 13,
   "metadata": {},
   "outputs": [],
   "source": [
    "data_to_sample = dict(round(data['loan_status'].value_counts().div(data.shape[0])*(0.33*data.shape[0])))"
   ]
  },
  {
   "cell_type": "code",
   "execution_count": 14,
   "metadata": {},
   "outputs": [
    {
     "data": {
      "text/plain": [
       "{'Current': 31058.0,\n",
       " 'Fully Paid': 5637.0,\n",
       " 'Charged Off': 1008.0,\n",
       " 'Late (31-120 days)': 774.0,\n",
       " 'In Grace Period': 414.0,\n",
       " 'Late (16-30 days)': 224.0,\n",
       " 'Default': 39.0}"
      ]
     },
     "execution_count": 14,
     "metadata": {},
     "output_type": "execute_result"
    }
   ],
   "source": [
    "data_to_sample"
   ]
  },
  {
   "cell_type": "code",
   "execution_count": 15,
   "metadata": {},
   "outputs": [
    {
     "data": {
      "text/plain": [
       "Current               31058\n",
       "Fully Paid             5637\n",
       "Charged Off            1008\n",
       "Late (31-120 days)      774\n",
       "In Grace Period         414\n",
       "Late (16-30 days)       224\n",
       "Default                  39\n",
       "Name: loan_status, dtype: int64"
      ]
     },
     "execution_count": 15,
     "metadata": {},
     "output_type": "execute_result"
    }
   ],
   "source": [
    "data_sampled['loan_status'].value_counts()"
   ]
  },
  {
   "cell_type": "code",
   "execution_count": 16,
   "metadata": {},
   "outputs": [
    {
     "data": {
      "text/plain": [
       "Current               94116\n",
       "Fully Paid            17082\n",
       "Charged Off            3054\n",
       "Late (31-120 days)     2346\n",
       "In Grace Period        1255\n",
       "Late (16-30 days)       678\n",
       "Default                 117\n",
       "Name: loan_status, dtype: int64"
      ]
     },
     "execution_count": 16,
     "metadata": {},
     "output_type": "execute_result"
    }
   ],
   "source": [
    "data['loan_status'].value_counts()"
   ]
  },
  {
   "cell_type": "code",
   "execution_count": 17,
   "metadata": {},
   "outputs": [],
   "source": [
    "full_data.to_csv('full_data.csv',index=False)\n",
    "full_data_sampled.to_csv('full_data_sampled.csv',index=False)"
   ]
  },
  {
   "cell_type": "code",
   "execution_count": null,
   "metadata": {},
   "outputs": [],
   "source": []
  }
 ],
 "metadata": {
  "kernelspec": {
   "display_name": "Python 3",
   "language": "python",
   "name": "python3"
  },
  "language_info": {
   "codemirror_mode": {
    "name": "ipython",
    "version": 3
   },
   "file_extension": ".py",
   "mimetype": "text/x-python",
   "name": "python",
   "nbconvert_exporter": "python",
   "pygments_lexer": "ipython3",
   "version": "3.6.8"
  }
 },
 "nbformat": 4,
 "nbformat_minor": 2
}
